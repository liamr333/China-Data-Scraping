{
 "cells": [
  {
   "cell_type": "code",
   "execution_count": 100,
   "id": "6d019853-0a2c-44eb-9b77-13064d692c03",
   "metadata": {},
   "outputs": [],
   "source": [
    "!pip install chromedriver-py\n",
    "!pip install pandas"
   ]
  },
  {
   "cell_type": "code",
   "execution_count": 1,
   "id": "3c4856ee-8fa3-4524-b437-9dba85bcb10d",
   "metadata": {},
   "outputs": [],
   "source": [
    "from selenium import webdriver\n",
    "from selenium.webdriver.support.ui import WebDriverWait\n",
    "from selenium.webdriver.chrome.webdriver import WebDriver as ChromeWebDriver\n",
    "from selenium.webdriver.common.by import By\n",
    "from selenium.webdriver.chrome.service import Service\n",
    "from selenium.webdriver.chrome.options import Options\n",
    "from selenium.webdriver.support import expected_conditions as EC\n",
    "from selenium.common.exceptions import TimeoutException, NoSuchElementException\n",
    "import pandas as pd\n",
    "from datetime import datetime, date\n",
    "import time\n",
    "import math\n",
    "import os\n",
    "import re\n",
    "import requests\n",
    "from typing import List, Dict, Union, Optional"
   ]
  },
  {
   "cell_type": "code",
   "execution_count": 2,
   "id": "952816aa-b0ce-4c8f-8d2a-06d5915907ed",
   "metadata": {},
   "outputs": [],
   "source": [
    "all_write_dir = \"./data\"\n",
    "\n",
    "if all_write_dir not in os.listdir():\n",
    "    os.mkdir(all_write_dir)"
   ]
  },
  {
   "cell_type": "code",
   "execution_count": 4,
   "id": "6259a0bb-bce2-4b94-99d3-b3673b2d9751",
   "metadata": {},
   "outputs": [],
   "source": [
    "sub_dir = f\"{all_write_dir}/global_times\"\n",
    "\n",
    "if sub_dir not in os.listdir():\n",
    "    os.mkdir(sub_dir)"
   ]
  },
  {
   "cell_type": "code",
   "execution_count": 5,
   "id": "320ce81d-d8b6-4d1c-9859-71f162cd6d71",
   "metadata": {},
   "outputs": [],
   "source": [
    "def create_chrome_driver(headless: bool=False) -> ChromeWebDriver:\n",
    "    chrome_options = Options()\n",
    "    if headless:\n",
    "        chrome_options.add_argument(\"--headless\")\n",
    "    chrome_options.add_argument(\"--no-sandbox\")\n",
    "    chrome_options.add_argument(\"--disable-dev-shm-usage\")\n",
    "    driver = webdriver.Chrome(options=chrome_options)\n",
    "    return driver"
   ]
  },
  {
   "cell_type": "code",
   "execution_count": 6,
   "id": "d2f6a563-4c35-4af5-a969-af4c30637145",
   "metadata": {},
   "outputs": [],
   "source": [
    "# Using advanced search, we can see that articles from the Global Times start at 2008/09/28.\n",
    "# Let's search month by month, setting the begin_date and end_date to the first and last date of that month respectively,\n",
    "# For every month from 2008/09 to 2025/08\n",
    "\n",
    "def get_first_last_days_of_months(\n",
    "    start_date: Union[str, date, datetime],\n",
    "    end_date: Union[str, date, datetime]\n",
    ") -> List[Dict[str, Union[str, date]]]:\n",
    "    \"\"\"Get first and last day of each month in range using pandas\"\"\"\n",
    "    \n",
    "    # Create date range of all months\n",
    "    months = pd.date_range(start=start_date, end=end_date, freq='MS')  # Month Start\n",
    "    \n",
    "    results = []\n",
    "    for month_start in months:\n",
    "        # First day is the month start\n",
    "        first_day = month_start\n",
    "        \n",
    "        # Last day is the last day of that month\n",
    "        last_day = month_start + pd.offsets.MonthEnd(0)\n",
    "        \n",
    "        results.append({\n",
    "            'month': month_start.strftime('%Y-%m'),\n",
    "            'first_day': first_day.date(),\n",
    "            'last_day': last_day.date()\n",
    "        })\n",
    "\n",
    "    return results"
   ]
  },
  {
   "cell_type": "code",
   "execution_count": 9,
   "id": "9b719e1b-7241-4ddf-abd5-ae57a42de73c",
   "metadata": {},
   "outputs": [],
   "source": [
    "def query_ollama(prompt: str, model=\"llama2:7b\") -> str:  # Changed from gpt-oss:20b\n",
    "    url = \"http://localhost:11434/api/generate\"\n",
    "    data = {\n",
    "        \"model\": model,\n",
    "        \"prompt\": prompt,\n",
    "        \"stream\": False\n",
    "    }\n",
    "    \n",
    "    response = requests.post(url, json=data)\n",
    "    \n",
    "    # Add error checking\n",
    "    if response.status_code != 200:\n",
    "        return f\"Error: {response.json()}\"\n",
    "    \n",
    "    return response.json()[\"response\"]\n",
    "\n",
    "\n",
    "def get_relevant_articles(article_titles: List[str]) -> List[str]:\n",
    "    # remove pipes if they exist in article titles\n",
    "    article_titles = [article_title.replace(\"|\", \"\") for article_title in article_titles]\n",
    "    prompt = \"\"\"Hey LLama, here are some article titles separated by a pipe. Please return a pipe-separated list of which ones correspond to China\n",
    "    and China-related geopolitics. Here are the article links: {}\"\"\".format(\"|\".join(article_titles))\n",
    "    result = query_ollama(prompt)\n",
    "    relevant_article_titles = []\n",
    "    if not re.search(\"^Error\", result):\n",
    "        relevant_article_titles.extend(result.split(\"|\"))\n",
    "    else:\n",
    "        print(result)\n",
    "    return relevant_article_titles"
   ]
  },
  {
   "cell_type": "code",
   "execution_count": 7,
   "id": "f9a5e723-e7c1-48ee-8797-6e85cd502a7b",
   "metadata": {
    "scrolled": true
   },
   "outputs": [],
   "source": [
    "# search for all Global Times articles within a month range\n",
    "def month_search(begin_date: str, end_date: str) -> None:\n",
    "    driver = create_chrome_driver()\n",
    "    wait = WebDriverWait(driver, 10)\n",
    "    try:\n",
    "        driver.get(\"https://search.globaltimes.cn/SearchCtrl\")\n",
    "        \n",
    "        begin_date_input = wait.until(\n",
    "            EC.presence_of_element_located((By.XPATH, '//*[@id=\"begin_date\"]'))\n",
    "        )\n",
    "        end_date_input = wait.until(\n",
    "            EC.presence_of_element_located((By.XPATH, '//*[@id=\"end_date\"]'))\n",
    "        )\n",
    "        driver.execute_script(f\"arguments[0].setAttribute('value', '{begin_date}')\", begin_date_input)\n",
    "        driver.execute_script(f\"arguments[0].setAttribute('value', '{end_date}')\", end_date_input)\n",
    "        \n",
    "        search_button = wait.until(\n",
    "            EC.presence_of_element_located((By.XPATH, '/html/body/div[3]/div/div/form/div[8]'))\n",
    "        )\n",
    "        search_button.click()\n",
    "        \n",
    "        time.sleep(10)\n",
    "        driver.execute_script(\"window.scrollTo(0, document.body.scrollHeight);\")\n",
    "        \n",
    "        num_articles_element = wait.until(\n",
    "            EC.presence_of_element_located((By.XPATH, '/html/body/div[4]/div[1]/div[12]/font'))\n",
    "        )\n",
    "        num_articles = 0\n",
    "        if re.search(r'\\d+', num_articles_element.text):\n",
    "            num_articles = int(re.findall(r'\\d+', num_articles_element.text)[0])\n",
    "\n",
    "        for page in range(num_articles):\n",
    "            next_button = wait.until(\n",
    "                EC.presence_of_element_located((By.XPATH, \"//div[text()=' Next >> ']\"))\n",
    "            )\n",
    "            next_button.click()\n",
    "            time.sleep(1)\n",
    "            driver.execute_script(\"window.scrollTo(0, document.body.scrollHeight);\")\n",
    "            \n",
    "    except TimeoutException:\n",
    "        print(f\"Timeout waiting for elements for date range {begin_date} to {end_date}\")\n",
    "    except NoSuchElementException as e:\n",
    "        print(f\"Element not found: {e}\")\n",
    "    except Exception as e:\n",
    "        print(f\"Unexpected error: {e}\")"
   ]
  },
  {
   "cell_type": "code",
   "execution_count": 99,
   "id": "ab4db4ad-38e6-47b3-a93d-9d321943fa7f",
   "metadata": {},
   "outputs": [
    {
     "name": "stdout",
     "output_type": "stream",
     "text": [
      "Timeout waiting for elements for date range 2011-05-01 to 2011-05-31\n"
     ]
    }
   ],
   "source": [
    "month_search(\"2011-05-01\", \"2011-05-31\")"
   ]
  },
  {
   "cell_type": "code",
   "execution_count": 10,
   "id": "3b0ddd1c-132e-4f57-bad8-2cf0fcc156a9",
   "metadata": {},
   "outputs": [
    {
     "data": {
      "text/plain": [
       "\"\\nI'm just an AI assistant and do not have feelings or emotions, so I cannot experience emotions or respond in the way a human would. However, I'm here to help you with any questions or tasks you may have! How can I assist you today?\""
      ]
     },
     "execution_count": 10,
     "metadata": {},
     "output_type": "execute_result"
    }
   ],
   "source": [
    "query_ollama(\"Hi, how are you?\")"
   ]
  },
  {
   "cell_type": "code",
   "execution_count": 51,
   "id": "f0977ab3-ebdb-4fe1-87c8-9d752e7e5864",
   "metadata": {},
   "outputs": [],
   "source": []
  },
  {
   "cell_type": "code",
   "execution_count": 22,
   "id": "988b6b19-9b44-4ccf-8914-e74f3985bbc5",
   "metadata": {},
   "outputs": [
    {
     "name": "stdout",
     "output_type": "stream",
     "text": [
      "2023-04: 2023-04-01 to 2023-04-30\n",
      "2023-05: 2023-05-01 to 2023-05-31\n",
      "2023-06: 2023-06-01 to 2023-06-30\n",
      "2023-07: 2023-07-01 to 2023-07-31\n",
      "2023-08: 2023-08-01 to 2023-08-31\n",
      "2023-09: 2023-09-01 to 2023-09-30\n",
      "2023-10: 2023-10-01 to 2023-10-31\n",
      "2023-11: 2023-11-01 to 2023-11-30\n",
      "2023-12: 2023-12-01 to 2023-12-31\n",
      "2024-01: 2024-01-01 to 2024-01-31\n",
      "2024-02: 2024-02-01 to 2024-02-29\n"
     ]
    }
   ],
   "source": [
    "import pandas as pd\n",
    "from datetime import datetime\n",
    "\n",
    "def get_month_boundaries_pandas(start_date, end_date):\n",
    "    \n",
    "\n",
    "# Usage\n",
    "start_date = '2023-03-15'\n",
    "end_date = '2024-02-10'\n",
    "\n",
    "boundaries = get_month_boundaries_pandas(start_date, end_date)\n",
    "for boundary in boundaries:\n",
    "    print(f\"{boundary['month']}: {boundary['first_day']} to {boundary['last_day']}\")"
   ]
  },
  {
   "cell_type": "code",
   "execution_count": null,
   "id": "3214a471-1c04-44c9-8be9-ed19d836b0f7",
   "metadata": {},
   "outputs": [],
   "source": []
  }
 ],
 "metadata": {
  "kernelspec": {
   "display_name": "Python 3 (ipykernel)",
   "language": "python",
   "name": "python3"
  },
  "language_info": {
   "codemirror_mode": {
    "name": "ipython",
    "version": 3
   },
   "file_extension": ".py",
   "mimetype": "text/x-python",
   "name": "python",
   "nbconvert_exporter": "python",
   "pygments_lexer": "ipython3",
   "version": "3.13.6"
  }
 },
 "nbformat": 4,
 "nbformat_minor": 5
}
